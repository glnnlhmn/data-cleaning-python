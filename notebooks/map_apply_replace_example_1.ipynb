{
 "cells": [
  {
   "cell_type": "markdown",
   "id": "542c4378338bef6b",
   "metadata": {},
   "source": [
    "# Pandas Methods: `.map`, `.apply`, and `.replace`\n",
    "\n",
    "## Introduction\n",
    "\n",
    "In this notebook, we will explore three powerful Pandas methods: `.map`, `.apply`, and `.replace`. These methods are essential for data cleaning and transformation tasks, particularly when you need to assign integers to string data for splitting out a dimension from a fact table.\n",
    "\n",
    "### Objectives\n",
    "\n",
    "- Understand the usage of `.map`, `.apply`, and `.replace`.\n",
    "- Learn how to use these methods to clean data by mapping string values to integers.\n",
    "- Compare the performance and complexity of each method.\n",
    "\n",
    "### Prerequisites\n",
    "\n",
    "- Basic knowledge of Python and Pandas.\n",
    "- Familiarity with data manipulation and cleaning tasks.\n",
    "\n",
    "### Setup\n",
    "\n",
    "Before getting started please make sure you have completed the initial setup for working local `../SETUP.md`"
   ]
  },
  {
   "cell_type": "markdown",
   "id": "db8dba79e84bf283",
   "metadata": {},
   "source": [
    "### Why Create a Function to Return the Sample Data?\n",
    "\n",
    "To ensure consistency and flexibility in our examples, we created a function to build and return the sample DataFrame. Here are the key reasons for this approach:\n",
    "\n",
    "1. **Consistent Dataset Across Multiple Examples**:\n",
    "   - By using a function to generate the sample data, we ensure that all examples in this notebook use the same dataset. This consistency helps in comparing the results of different methods without discrepancies caused by varying data.\n",
    "\n",
    "2. **Flexibility for Experimentation**:\n",
    "   - The function allows anyone exploring this notebook to easily adjust the dataset for their own experiments. They can modify the data within the function and observe how the changes affect the cleaning and mapping processes.\n",
    "\n",
    "3. **Separation of Data Creation and Cleaning Processes**:\n",
    "   - In real-life scenarios, the creation of data is often separate from the data cleaning process. By encapsulating the data creation in a function, we mimic this separation, making the examples more realistic and aligned with typical data workflows.\n",
    "\n",
    "\n"
   ]
  },
  {
   "cell_type": "code",
   "execution_count": 1,
   "id": "660a08812c411670",
   "metadata": {
    "jupyter": {
     "is_executing": true
    }
   },
   "outputs": [],
   "source": [
    "# Create Sample Data\n",
    "import pandas as pd\n",
    "\n",
    "def build_sample_dataframe() -> pd.DataFrame:\n",
    "    \"\"\"\n",
    "    Builds and returns a sample DataFrame for demonstration purposes.\n",
    "\n",
    "    The DataFrame contains three columns: 'category', 'item', and 'price'.\n",
    "    The 'category' column includes some inconsistencies such as extra spaces,\n",
    "    mixed case, and missing values to simulate real-world data cleaning scenarios.\n",
    "\n",
    "    Returns:\n",
    "        pd.DataFrame: A DataFrame with sample data.\n",
    "    \"\"\"\n",
    "    data = {\n",
    "        'category': ['Electronics', 'Clothing', 'Home', 'Electronics ', ' clothing', 'Home', 'electronics', 'Clothing', 'Books', None, ''],\n",
    "        'item': ['Laptop', 'T-Shirt', 'Sofa', 'Smartphone', 'Jeans', 'Table', 'Headphones', 'Jacket', 'Novel', 'Lamp', ''],\n",
    "        'price': [999.50, 19.75, 299.00, 699.25, 49.50, 199.00, 89.75, 79.50, 14.25, 39.00, 0.0]\n",
    "    }\n",
    "    _df = pd.DataFrame(data)\n",
    "    return _df\n"
   ]
  },
  {
   "cell_type": "markdown",
   "id": "754b3d11eebe9f60",
   "metadata": {},
   "source": [
    "### .map **Example**\n",
    "#### Using `.map`\n",
    "\n",
    "The `.map` method is a straightforward way to substitute each value in a Series with another value from a dictionary. It is particularly useful for simple value replacements.\n",
    "\n",
    "**Pros**:\n",
    "- **Efficiency**: `.map` is fast and efficient for simple value replacements.\n",
    "- **Simplicity**: Easy to use and understand for basic mapping tasks.\n",
    "\n",
    "**Cons**:\n",
    "- **Limited Flexibility**: `.map` is limited to Series and cannot be directly applied to DataFrames.\n",
    "- **Handling Missing Values**: Requires additional steps to handle missing values or values not present in the dictionary."
   ]
  },
  {
   "cell_type": "code",
   "execution_count": 2,
   "id": "259557f0ab7b76b7",
   "metadata": {
    "jupyter": {
     "is_executing": true
    }
   },
   "outputs": [
    {
     "name": "stdout",
     "output_type": "stream",
     "text": [
      "    category        item   price\n",
      "0        1.0      Laptop  999.50\n",
      "1        2.0     T-Shirt   19.75\n",
      "2        3.0        Sofa  299.00\n",
      "3        1.0  Smartphone  699.25\n",
      "4        2.0       Jeans   49.50\n",
      "5        3.0       Table  199.00\n",
      "6        1.0  Headphones   89.75\n",
      "7        2.0      Jacket   79.50\n",
      "8        4.0       Novel   14.25\n",
      "9        0.0        Lamp   39.00\n",
      "10       NaN                0.00\n"
     ]
    }
   ],
   "source": [
    "# Load sample data\n",
    "df = build_sample_dataframe()\n",
    "\n",
    "# Clean the data: strip spaces, convert to title case, and fill NaNs\n",
    "df['category'] = df['category'].str.strip().str.title().fillna('Unknown')\n",
    "\n",
    "# Dictionary for mapping string data to integers\n",
    "category_dict = {'Electronics': 1, 'Clothing': 2, 'Home': 3, 'Books': 4, 'Unknown': 0}\n",
    "\n",
    "# Applying .map to clean data\n",
    "df['category'] = df['category'].map(category_dict)\n",
    "print(df)"
   ]
  },
  {
   "cell_type": "markdown",
   "id": "75e5c09e529694cf",
   "metadata": {},
   "source": [
    "### .apply **Example**\n",
    "#### Using `.apply`\n",
    "\n",
    "The `.apply` method allows you to apply a function along an axis of the DataFrame (either rows or columns). It offers more flexibility compared to `.map`.\n",
    "\n",
    "**Pros**:\n",
    "- **Flexibility**: Can handle more complex operations and custom functions.\n",
    "- **Versatility**: Can be applied to both Series and DataFrames.\n",
    "\n",
    "**Cons**:\n",
    "- **Performance**: May be slower than `.map`, especially with large DataFrames or complex functions.\n",
    "- **Complexity**: Slightly more complex to use compared to `.map`."
   ]
  },
  {
   "cell_type": "code",
   "execution_count": 3,
   "id": "adc3574b7fe76dfe",
   "metadata": {},
   "outputs": [
    {
     "name": "stdout",
     "output_type": "stream",
     "text": [
      "    category        item   price\n",
      "0          1      Laptop  999.50\n",
      "1          2     T-Shirt   19.75\n",
      "2          3        Sofa  299.00\n",
      "3          1  Smartphone  699.25\n",
      "4          2       Jeans   49.50\n",
      "5          3       Table  199.00\n",
      "6          1  Headphones   89.75\n",
      "7          2      Jacket   79.50\n",
      "8          4       Novel   14.25\n",
      "9          0        Lamp   39.00\n",
      "10         0                0.00\n"
     ]
    }
   ],
   "source": [
    "# Load sample data\n",
    "df = build_sample_dataframe()\n",
    "\n",
    "# Dictionary for mapping string data to integers\n",
    "category_dict = {'Electronics': 1, 'Clothing': 2, 'Home': 3, 'Books': 4, 'Unknown': 0}\n",
    "\n",
    "# Function to clean and map data\n",
    "def clean_and_map(value):\n",
    "    if pd.isna(value) or value.strip() == '':\n",
    "        return category_dict['Unknown']\n",
    "    return category_dict.get(value.strip().title(), value)\n",
    "\n",
    "# Applying .apply to clean data\n",
    "df['category'] = df['category'].apply(clean_and_map)\n",
    "print(df)"
   ]
  },
  {
   "cell_type": "markdown",
   "id": "e98a990db3844326",
   "metadata": {},
   "source": [
    "### .replace **Example**\n",
    "#### Using `.replace`\n",
    "\n",
    "The `.replace` method is used to replace values in a DataFrame or Series. It can handle both simple and complex replacements.\n",
    "\n",
    "**Pros**:\n",
    "- **Versatility**: Can replace values in both Series and DataFrames.\n",
    "- **Flexibility**: Can handle complex replacements, including multiple values and patterns.\n",
    "\n",
    "**Cons**:\n",
    "- **Performance**: May be slower for large DataFrames compared to `.map`.\n",
    "- **Complexity**: Slightly more complex syntax for advanced replacements."
   ]
  },
  {
   "cell_type": "code",
   "execution_count": 4,
   "id": "9c4b619d65fb6244",
   "metadata": {},
   "outputs": [
    {
     "name": "stdout",
     "output_type": "stream",
     "text": [
      "   category        item   price\n",
      "0         1      Laptop  999.50\n",
      "1         2     T-Shirt   19.75\n",
      "2         3        Sofa  299.00\n",
      "3         1  Smartphone  699.25\n",
      "4         2       Jeans   49.50\n",
      "5         3       Table  199.00\n",
      "6         1  Headphones   89.75\n",
      "7         2      Jacket   79.50\n",
      "8         4       Novel   14.25\n",
      "9         0        Lamp   39.00\n",
      "10                         0.00\n"
     ]
    }
   ],
   "source": [
    "# Load sample data\n",
    "df = build_sample_dataframe()\n",
    "\n",
    "# Clean the data: strip spaces, convert to title case, and fill NaNs\n",
    "df['category'] = df['category'].str.strip().str.title().fillna('Unknown')\n",
    "\n",
    "# Dictionary for mapping string data to integers\n",
    "category_dict = {'Electronics': 1, 'Clothing': 2, 'Home': 3, 'Books': 4, 'Unknown': 0}\n",
    "\n",
    "# Applying .replace to clean data\n",
    "df['category'] = df['category'].replace(category_dict)\n",
    "print(df)"
   ]
  },
  {
   "cell_type": "markdown",
   "id": "c7e53d18be2bd6d4",
   "metadata": {},
   "source": [
    "### Conclusion\n",
    "In this notebook, we explored how to use .map, .apply, and groupby for data cleaning and aggregation tasks in Pandas. Each method has its own strengths and is suitable for different scenarios. Understanding these differences can help you choose the right method for your data manipulation tasks, balancing complexity and performance."
   ]
  }
 ],
 "metadata": {
  "kernelspec": {
   "display_name": "Python 3 (ipykernel)",
   "language": "python",
   "name": "python3"
  },
  "language_info": {
   "codemirror_mode": {
    "name": "ipython",
    "version": 3
   },
   "file_extension": ".py",
   "mimetype": "text/x-python",
   "name": "python",
   "nbconvert_exporter": "python",
   "pygments_lexer": "ipython3",
   "version": "3.13.0"
  }
 },
 "nbformat": 4,
 "nbformat_minor": 5
}
