{
 "cells": [
  {
   "metadata": {},
   "cell_type": "markdown",
   "source": [
    "# Data Cleaning with Pandas `.replace`\n",
    "\n",
    "In this notebook, we will explore the use of the `.replace` method in the pandas library to clean and transform data. The `.replace` method is a powerful tool for handling straightforward value replacements across a DataFrame or Series, making it ideal for standardizing data and handling missing values.\n",
    "\n",
    "## Objectives\n",
    "\n",
    "1. **Data Cleaning**:\n",
    "    - **Standardizing Categories**: Clean and standardize the 'category' column to handle inconsistencies such as extra spaces, mixed case, and missing values.\n",
    "    - **Handling Availability Status**: Standardize the 'availability' column to ensure consistent terminology.\n",
    "\n",
    "2. **Multiple Column Replacements**:\n",
    "    - Demonstrate how to use `.replace` to update multiple columns simultaneously, showcasing its efficiency and ease of use.\n",
    "\n",
    "## `.replace` Method Overview\n",
    "\n",
    "The `.replace` method in pandas allows for straightforward value replacements within a DataFrame or Series. It is particularly useful for:\n",
    "- **Replacing Multiple Values at Once**: Efficiently handle multiple value replacements using dictionaries or lists.\n",
    "- **Handling Missing or Specific Values**: Replace specific values, including `NaN` or empty strings, with appropriate placeholders.\n",
    "- **Replacing Values Across Multiple Columns**: Apply replacements across multiple columns in a single operation.\n",
    "\n",
    "### Example\n",
    "\n",
    "In this notebook, we will work with a sample DataFrame containing inconsistencies and missing values in the 'category' and 'availability' columns. We will use the `.replace` method to clean and standardize these columns, ensuring our data is consistent and ready for analysis.\n"
   ],
   "id": "7317684a512b417c"
  },
  {
   "metadata": {},
   "cell_type": "code",
   "source": [
    "import pandas as pd\n",
    "import numpy as np\n",
    "\n",
    "# Create Sample Data\n",
    "def build_sample_dataframe() -> pd.DataFrame:\n",
    "    data = {\n",
    "        'category': ['Electronics', 'Clothing', 'Home', 'Electronics ', ' clothing', 'Home', 'electronics', 'Clothing', 'Books', None, ''],\n",
    "        'item': ['Laptop', 'T-Shirt', 'Sofa', 'Smartphone', 'Jeans', 'Table', 'Headphones', 'Jacket', 'Novel', 'Lamp', ''],\n",
    "        'price': [999.50, 19.75, 299.00, 699.25, 49.50, 199.00, 89.75, 79.50, 14.25, 39.00, 0.0],\n",
    "        'availability': ['In Stock', 'Out of Stock', 'In Stock', 'In Stock', 'Out of Stock', 'In Stock', 'In Stock', 'Out of Stock', None, 'In Stock', '']\n",
    "    }\n",
    "    _df = pd.DataFrame(data)\n",
    "    return _df\n"
   ],
   "id": "33ae0fa3541af359",
   "outputs": [],
   "execution_count": null
  },
  {
   "cell_type": "code",
   "id": "57309c95b11b1ce2",
   "metadata": {},
   "source": [
    "df = build_sample_dataframe()\n",
    "\n",
    "# Display the original DataFrame\n",
    "print(\"Original DataFrame:\")\n",
    "print(df)\n"
   ],
   "outputs": [],
   "execution_count": null
  },
  {
   "cell_type": "code",
   "id": "e014d826-7509-46c1-98a0-1113061ca727",
   "metadata": {},
   "source": [
    "# Replace values in multiple columns\n",
    "df.replace({\n",
    "    'category': {\n",
    "        'Electronics ': 'electronics',\n",
    "        ' clothing': 'clothing',\n",
    "        'electronics': 'electronics',\n",
    "        'Clothing': 'clothing',\n",
    "        '': 'unknown',\n",
    "        None: 'unknown'\n",
    "    },\n",
    "    'availability': {\n",
    "        'In Stock': 'available',\n",
    "        'Out of Stock': 'unavailable',\n",
    "        '': 'unknown',\n",
    "        None: 'unknown'\n",
    "    }\n",
    "}, inplace=True)\n",
    "\n",
    "# Display the cleaned DataFrame\n",
    "print(\"\\nCleaned DataFrame:\")\n",
    "print(df)"
   ],
   "outputs": [],
   "execution_count": null
  }
 ],
 "metadata": {
  "kernelspec": {
   "display_name": "Python 3 (ipykernel)",
   "language": "python",
   "name": "python3"
  },
  "language_info": {
   "codemirror_mode": {
    "name": "ipython",
    "version": 3
   },
   "file_extension": ".py",
   "mimetype": "text/x-python",
   "name": "python",
   "nbconvert_exporter": "python",
   "pygments_lexer": "ipython3",
   "version": "3.13.0"
  }
 },
 "nbformat": 4,
 "nbformat_minor": 5
}
