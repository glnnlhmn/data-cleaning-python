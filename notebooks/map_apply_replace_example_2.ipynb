{
 "cells": [
  {
   "metadata": {},
   "cell_type": "markdown",
   "source": [
    "# Data Cleaning and Transformation with Pandas `.apply`\n",
    "\n",
    "In this notebook, we will explore the powerful `.apply` method in the pandas library. The `.apply` method allows you to apply a function along an axis of the DataFrame (either rows or columns), offering great flexibility for complex data transformations.\n",
    "\n",
    "## Objectives\n",
    "\n",
    "1. **Data Cleaning**:\n",
    "    - **Standardizing Categories**: Clean and standardize the 'category' column to handle inconsistencies such as extra spaces, mixed case, and missing values.\n",
    "    - **Handling Missing Values**: Replace missing values with appropriate placeholders.\n",
    "\n",
    "2. **Data Transformation**:\n",
    "    - **Applying Discounts**: Calculate final prices after applying category-based discounts.\n",
    "    - **Complex Operations**: Demonstrate the use of `.apply` for complex row-wise operations involving multiple columns.\n",
    "\n",
    "## `.apply` Method Overview\n",
    "\n",
    "The `.apply` method is a versatile tool for applying custom functions to DataFrame rows or columns. It is particularly useful for operations that are too complex for `.map` or `.replace`.\n",
    "\n",
    "### Pros:\n",
    "- **Flexibility**: Can handle more complex operations and custom functions.\n",
    "- **Versatility**: Can be applied to both Series and DataFrames.\n",
    "\n",
    "### Cons:\n",
    "- **Performance**: May be slower than `.map`, especially with large DataFrames or complex functions.\n",
    "- **Complexity**: Slightly more complex to use compared to `.map`.\n",
    "\n",
    "In this notebook, we will demonstrate how to use the `.apply` method effectively to clean and transform data, highlighting its strengths in handling complex scenarios.\n"
   ],
   "id": "82181775dca1c8e2"
  },
  {
   "cell_type": "code",
   "id": "initial_id",
   "metadata": {
    "jupyter": {
     "is_executing": true
    }
   },
   "source": [
    "import pandas as pd\n",
    "\n",
    "def build_sample_dataframe() -> pd.DataFrame:\n",
    "    data = {\n",
    "        'category': ['Electronics', 'Clothing', 'Home', 'Electronics ', ' clothing', 'Home', 'electronics', 'Clothing', 'Books', None, ''],\n",
    "        'item': ['Laptop', 'T-Shirt', 'Sofa', 'Smartphone', 'Jeans', 'Table', 'Headphones', 'Jacket', 'Novel', 'Lamp', ''],\n",
    "        'price': [999.50, 19.75, 299.00, 699.25, 49.50, 199.00, 89.75, 79.50, 14.25, 39.00, 0.0]\n",
    "    }\n",
    "    _df = pd.DataFrame(data)\n",
    "    return _df\n"
   ],
   "outputs": [],
   "execution_count": null
  },
  {
   "cell_type": "code",
   "id": "86ed04df5846bb58",
   "metadata": {
    "jupyter": {
     "is_executing": true
    }
   },
   "source": [
    "def clean_category(category):\n",
    "    if pd.isnull(category) or category.strip() == '':\n",
    "        return 'Unknown'\n",
    "    return category.strip().lower()"
   ],
   "outputs": [],
   "execution_count": null
  },
  {
   "metadata": {
    "jupyter": {
     "is_executing": true
    }
   },
   "cell_type": "code",
   "source": [
    "def apply_discount(row):\n",
    "    if row['category'] == 'electronics':\n",
    "        discount = 0.10\n",
    "    elif row['category'] == 'clothing':\n",
    "        discount = 0.15\n",
    "    elif row['category'] == 'home':\n",
    "        discount = 0.05\n",
    "    else:\n",
    "        discount = 0.0\n",
    "    final_price = row['price'] * (1 - discount)\n",
    "    return final_price"
   ],
   "id": "fc0ba11c00fd21c",
   "outputs": [],
   "execution_count": null
  },
  {
   "metadata": {},
   "cell_type": "code",
   "outputs": [
    {
     "name": "stdout",
     "output_type": "stream",
     "text": [
      "       category        item   price\n",
      "0   electronics      Laptop  999.50\n",
      "1      clothing     T-Shirt   19.75\n",
      "2          home        Sofa  299.00\n",
      "3   electronics  Smartphone  699.25\n",
      "4      clothing       Jeans   49.50\n",
      "5          home       Table  199.00\n",
      "6   electronics  Headphones   89.75\n",
      "7      clothing      Jacket   79.50\n",
      "8         books       Novel   14.25\n",
      "9       Unknown        Lamp   39.00\n",
      "10      Unknown                0.00\n"
     ]
    }
   ],
   "execution_count": 3,
   "source": [
    "df = build_sample_dataframe()\n",
    "df['category'] = df['category'].apply(clean_category)\n",
    "df['final_price'] = df.apply(apply_discount, axis=1)\n",
    "print(df)"
   ],
   "id": "2455effe5c9a566d"
  },
  {
   "metadata": {},
   "cell_type": "markdown",
   "source": "The .map method is great for simpler, element-wise transformations, but it has limitations when it comes to more complex operations that involve multiple columns or require conditional logic. In the example we discussed, where we apply discounts based on the category and calculate the final price, .map wouldn't be sufficient because it only works on a single Series and doesn't handle row-wise operations involving multiple columns.",
   "id": "bc49e84086c9f2a6"
  }
 ],
 "metadata": {
  "kernelspec": {
   "display_name": "Python 3 (ipykernel)",
   "language": "python",
   "name": "python3"
  },
  "language_info": {
   "codemirror_mode": {
    "name": "ipython",
    "version": 3
   },
   "file_extension": ".py",
   "mimetype": "text/x-python",
   "name": "python",
   "nbconvert_exporter": "python",
   "pygments_lexer": "ipython3",
   "version": "3.13.0"
  }
 },
 "nbformat": 4,
 "nbformat_minor": 5
}
